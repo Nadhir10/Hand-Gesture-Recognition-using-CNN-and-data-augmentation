{
 "cells": [
  {
   "cell_type": "markdown",
   "id": "27656f5b",
   "metadata": {
    "id": "27656f5b"
   },
   "source": [
    "# Hand Gesture recognition using CNN and data Augmentation"
   ]
  },
  {
   "cell_type": "markdown",
   "id": "20317dd5",
   "metadata": {
    "id": "20317dd5"
   },
   "source": [
    "This project aims to showcase the use of Convolutional neural networks (CNN) for Hand Gesture recognition.  \n",
    "The dataset used is contains several images that correspondes to different classes. Therfore it's a classification problem."
   ]
  },
  {
   "cell_type": "markdown",
   "id": "d7ae1b31",
   "metadata": {
    "id": "d7ae1b31"
   },
   "source": [
    "Let's first load the required libraries :  \n",
    "**os** : For navigating directories  \n",
    "**numpy** : for matrix manipulation in Python  \n",
    "**pyplot** from matplotlib : for visualisations  \n",
    "**h5py** : to handle h5 files (dataset and pre-trained models)  \n",
    "**sklearn** : for the \"one hot encoding\" and \"train/test split\" functions  \n",
    "**keras** : to build and train the CNN\n",
    "\n",
    "The data used in this notebook was provided in Andrew Ng's deep learning course specialization."
   ]
  },
  {
   "cell_type": "code",
   "execution_count": 1,
   "id": "d57b959c",
   "metadata": {
    "id": "d57b959c",
    "tags": []
   },
   "outputs": [],
   "source": [
    "import os\n",
    "from os.path import join\n",
    "import numpy as np\n",
    "import matplotlib.pyplot as plt\n",
    "\n",
    "from sklearn.preprocessing import OneHotEncoder\n",
    "from sklearn.model_selection import train_test_split\n",
    "\n",
    "import h5py\n",
    "\n",
    "import tensorflow as tf\n",
    "from tensorflow.keras import layers, models\n",
    "\n",
    "from IPython.display import clear_output\n",
    "np.random.seed(10)"
   ]
  },
  {
   "cell_type": "markdown",
   "id": "1e4c7888",
   "metadata": {
    "id": "1e4c7888"
   },
   "source": [
    "The dataset is stored in the \"dataset\" directory, which contains the"
   ]
  },
  {
   "cell_type": "code",
   "execution_count": 2,
   "id": "abb22db1",
   "metadata": {
    "colab": {
     "base_uri": "https://localhost:8080/"
    },
    "id": "abb22db1",
    "outputId": "4b66abbe-9f5d-4143-e82e-e53b85e3dea5",
    "tags": []
   },
   "outputs": [
    {
     "data": {
      "text/plain": [
       "['test_signs.h5', 'train_signs.h5']"
      ]
     },
     "execution_count": 2,
     "metadata": {},
     "output_type": "execute_result"
    }
   ],
   "source": [
    "path = \".\\\\datasets\\\\\"\n",
    "ds_list = os.listdir(path)\n",
    "ds_list"
   ]
  },
  {
   "cell_type": "markdown",
   "id": "90058fd1-3b55-4833-ae0a-a2d135b6a970",
   "metadata": {},
   "source": [
    "Let's load the train set first"
   ]
  },
  {
   "cell_type": "code",
   "execution_count": 3,
   "id": "fd52fbcd",
   "metadata": {
    "colab": {
     "base_uri": "https://localhost:8080/"
    },
    "id": "fd52fbcd",
    "outputId": "9b24fcae-6688-4e5b-91b6-bac4c49d7c30",
    "tags": []
   },
   "outputs": [
    {
     "data": {
      "text/plain": [
       "['list_classes', 'train_set_x', 'train_set_y']"
      ]
     },
     "execution_count": 3,
     "metadata": {},
     "output_type": "execute_result"
    }
   ],
   "source": [
    "import h5py\n",
    "f = h5py.File(join(path, 'train_signs.h5'), 'r')\n",
    "list(f.keys())"
   ]
  },
  {
   "cell_type": "code",
   "execution_count": 4,
   "id": "e3e35281",
   "metadata": {
    "id": "e3e35281",
    "tags": []
   },
   "outputs": [],
   "source": [
    "list_cls = f['list_classes']\n",
    "x = np.array(f['train_set_x'])\n",
    "y = np.array(f['train_set_y'])"
   ]
  },
  {
   "cell_type": "code",
   "execution_count": 5,
   "id": "00be8271",
   "metadata": {
    "colab": {
     "base_uri": "https://localhost:8080/"
    },
    "id": "00be8271",
    "outputId": "a3dddfc2-1be3-4319-8238-ef8e94b57119",
    "tags": []
   },
   "outputs": [
    {
     "name": "stdout",
     "output_type": "stream",
     "text": [
      "(1080, 64, 64, 3)\n",
      "(1080,)\n"
     ]
    }
   ],
   "source": [
    "print(x.shape)\n",
    "print(y.shape)"
   ]
  },
  {
   "cell_type": "markdown",
   "id": "000f203e",
   "metadata": {
    "id": "000f203e"
   },
   "source": [
    "Let's visualize a sample image"
   ]
  },
  {
   "cell_type": "code",
   "execution_count": 48,
   "id": "ec780507",
   "metadata": {
    "colab": {
     "base_uri": "https://localhost:8080/",
     "height": 302
    },
    "id": "ec780507",
    "outputId": "cd22d13b-e9a8-4c93-d0f4-7b81c32d1a65",
    "tags": []
   },
   "outputs": [
    {
     "name": "stdout",
     "output_type": "stream",
     "text": [
      "The sign corresponds : 4\n"
     ]
    },
    {
     "data": {
      "text/plain": [
       "<matplotlib.image.AxesImage at 0x2711620cb10>"
      ]
     },
     "execution_count": 48,
     "metadata": {},
     "output_type": "execute_result"
    },
    {
     "data": {
      "image/png": "[encoded data removed]",
      "text/plain": [
       "<Figure size 640x480 with 1 Axes>"
      ]
     },
     "metadata": {},
     "output_type": "display_data"
    }
   ],
   "source": [
    "idx = np.random.randint(0, high=1080)\n",
    "img = x[idx]\n",
    "print(\"The sign corresponds :\",  y[idx])\n",
    "plt.imshow(img)"
   ]
  },
  {
   "cell_type": "markdown",
   "id": "sZthyI8yShAQ",
   "metadata": {
    "id": "sZthyI8yShAQ"
   },
   "source": [
    "## Data augmentation"
   ]
  },
  {
   "cell_type": "markdown",
   "id": "5e5dc898-fd5d-429e-bb89-27b06e65ff51",
   "metadata": {},
   "source": [
    "We want our algorithm to determin the number wichever the hand orientation. Therefore, we will use fips and rotations to increase the number of smalples with different orientations."
   ]
  },
  {
   "cell_type": "code",
   "execution_count": 49,
   "id": "nsAZAYHjSF1G",
   "metadata": {
    "id": "nsAZAYHjSF1G",
    "tags": []
   },
   "outputs": [],
   "source": [
    "data_augmentation = tf.keras.Sequential([\n",
    "  layers.RandomFlip(\"horizontal_and_vertical\"),\n",
    "  layers.RandomRotation(0.2),\n",
    "])"
   ]
  },
  {
   "cell_type": "code",
   "execution_count": 50,
   "id": "aPtoGh8iSFsG",
   "metadata": {
    "id": "aPtoGh8iSFsG",
    "tags": []
   },
   "outputs": [],
   "source": [
    "image = np.expand_dims(img, 0)"
   ]
  },
  {
   "cell_type": "code",
   "execution_count": 51,
   "id": "ANrFL3KhSFjW",
   "metadata": {
    "colab": {
     "base_uri": "https://localhost:8080/",
     "height": 574
    },
    "id": "ANrFL3KhSFjW",
    "outputId": "cdf67661-174f-4617-e002-93df06f8887f",
    "tags": []
   },
   "outputs": [
    {
     "data": {
      "image/png": "[encoded data removed]",
      "text/plain": [
       "<Figure size 1000x1000 with 4 Axes>"
      ]
     },
     "metadata": {},
     "output_type": "display_data"
    }
   ],
   "source": [
    "plt.figure(figsize=(10, 10))\n",
    "for i in range(4):\n",
    "    augmented_image = data_augmentation(image)\n",
    "    ax = plt.subplot(2, 2, i + 1)\n",
    "    plt.imshow(augmented_image.numpy()[0].astype(np.uint8))\n",
    "    plt.axis(\"off\")"
   ]
  },
  {
   "cell_type": "markdown",
   "id": "693936d7-2400-4639-9224-0681c1469c5c",
   "metadata": {},
   "source": [
    "we can some distortion as other fingers or forms appear in the augmented images, but this can allo the algorithm more robust."
   ]
  },
  {
   "cell_type": "code",
   "execution_count": 52,
   "id": "vkzFVPljSFZ8",
   "metadata": {
    "colab": {
     "base_uri": "https://localhost:8080/"
    },
    "id": "vkzFVPljSFZ8",
    "outputId": "5a1f9d3a-06fb-49af-85a9-4aacd3fcb414",
    "tags": []
   },
   "outputs": [
    {
     "name": "stdout",
     "output_type": "stream",
     "text": [
      "Model: \"sequential_3\"\n",
      "_________________________________________________________________\n",
      " Layer (type)                Output Shape              Param #   \n",
      "=================================================================\n",
      " random_flip_3 (RandomFlip)  (1, 64, 64, 3)            0         \n",
      "                                                                 \n",
      " random_rotation_3 (RandomRo  (1, 64, 64, 3)           0         \n",
      " tation)                                                         \n",
      "                                                                 \n",
      "=================================================================\n",
      "Total params: 0\n",
      "Trainable params: 0\n",
      "Non-trainable params: 0\n",
      "_________________________________________________________________\n"
     ]
    }
   ],
   "source": [
    "data_augmentation.summary()"
   ]
  },
  {
   "cell_type": "code",
   "execution_count": 53,
   "id": "l5GKZcP4SFPe",
   "metadata": {
    "id": "l5GKZcP4SFPe",
    "tags": []
   },
   "outputs": [],
   "source": [
    "data_augmentation.compile()"
   ]
  },
  {
   "cell_type": "code",
   "execution_count": 54,
   "id": "2BaxrJ7nSFD8",
   "metadata": {
    "id": "2BaxrJ7nSFD8",
    "tags": []
   },
   "outputs": [],
   "source": [
    "aug_x = x\n",
    "aug_y = y\n",
    "\n",
    "for i in range(3):\n",
    "    aug_tmp = data_augmentation(x)\n",
    "    aug_x = np.append(aug_x, aug_tmp, axis = 0)\n",
    "    aug_y = np.append(aug_y, y, axis = 0)\n"
   ]
  },
  {
   "cell_type": "markdown",
   "id": "99b6e3c0-aad8-44c5-92c7-cefa77bb0b11",
   "metadata": {},
   "source": [
    "The new dataset now contains 4320 images."
   ]
  },
  {
   "cell_type": "code",
   "execution_count": 55,
   "id": "Lk1Gg0IEitKH",
   "metadata": {
    "colab": {
     "base_uri": "https://localhost:8080/"
    },
    "id": "Lk1Gg0IEitKH",
    "outputId": "8e78acdb-fa3f-487a-b6d4-93c925c13f57",
    "tags": []
   },
   "outputs": [
    {
     "name": "stdout",
     "output_type": "stream",
     "text": [
      "(4320, 64, 64, 3) (4320,)\n"
     ]
    }
   ],
   "source": [
    "print(aug_x.shape, aug_y.shape)"
   ]
  },
  {
   "cell_type": "markdown",
   "id": "7826ee4b",
   "metadata": {
    "id": "7826ee4b"
   },
   "source": [
    "## Preprocessing"
   ]
  },
  {
   "cell_type": "markdown",
   "id": "a259d111",
   "metadata": {
    "id": "a259d111"
   },
   "source": [
    "### X data"
   ]
  },
  {
   "cell_type": "markdown",
   "id": "29a2aabc",
   "metadata": {
    "id": "29a2aabc"
   },
   "source": [
    "The images are stacked in a single numpy array **x**.  \n",
    "It's common practice in deep learning to normalize the input in order to speed up training.  \n",
    "Given the inputs are RGB images, every pixel is encoded in a vector of 3 values between 0 and 255.  \n",
    "A simple way to normalize image inputs is to divide every pixel value by 255, providing input values between 0 and 1."
   ]
  },
  {
   "cell_type": "code",
   "execution_count": 56,
   "id": "01e1b0cc",
   "metadata": {
    "id": "01e1b0cc",
    "tags": []
   },
   "outputs": [],
   "source": [
    "#x_data = x /255.0\n",
    "x_data = aug_x /255.0"
   ]
  },
  {
   "cell_type": "markdown",
   "id": "fed0360c",
   "metadata": {
    "id": "fed0360c"
   },
   "source": [
    "### Y data"
   ]
  },
  {
   "cell_type": "markdown",
   "id": "78d7d294",
   "metadata": {
    "id": "78d7d294"
   },
   "source": [
    "Let's now take a look on the classes"
   ]
  },
  {
   "cell_type": "code",
   "execution_count": 57,
   "id": "cfa369ce",
   "metadata": {
    "colab": {
     "base_uri": "https://localhost:8080/"
    },
    "id": "cfa369ce",
    "outputId": "4dc0428e-423e-4bd2-e6e0-e9920ee3fb46",
    "tags": []
   },
   "outputs": [
    {
     "data": {
      "text/plain": [
       "[0, 1, 2, 3, 4, 5]"
      ]
     },
     "execution_count": 57,
     "metadata": {},
     "output_type": "execute_result"
    }
   ],
   "source": [
    "list(list_cls)"
   ]
  },
  {
   "cell_type": "markdown",
   "id": "4111c512",
   "metadata": {
    "id": "4111c512"
   },
   "source": [
    "Every element in y is a number between 0 and 5, corresponding to the gesture proposed.\n",
    "Given that we have 6 distinct classes, we will need to use a softmax function in the ouput layer of our CNN.  \n",
    "To be able to train the CNN with a softmax layer, we will need to encode the classes difrrently. We will use \"One hot encoding\" which transformes each class in a vector of ones and zeros:  \n",
    "**Examples :**  \n",
    "y = 0   becomes  y = [1, 0, 0, 0, 0, 0]  \n",
    "y = 5   becomes  y = [0, 0, 0, 0, 0, 1]  "
   ]
  },
  {
   "cell_type": "code",
   "execution_count": 59,
   "id": "1fae2b01",
   "metadata": {
    "id": "1fae2b01",
    "tags": []
   },
   "outputs": [],
   "source": [
    "from sklearn.preprocessing import OneHotEncoder"
   ]
  },
  {
   "cell_type": "code",
   "execution_count": 65,
   "id": "7a262010",
   "metadata": {
    "colab": {
     "base_uri": "https://localhost:8080/"
    },
    "id": "7a262010",
    "outputId": "2df59be4-ebfc-47d3-8c6e-4c93cb9e9e33",
    "tags": []
   },
   "outputs": [
    {
     "name": "stdout",
     "output_type": "stream",
     "text": [
      "the firs label example contains the number : 5\n"
     ]
    }
   ],
   "source": [
    "\n"
   ]
  },
  {
   "cell_type": "code",
   "execution_count": 71,
   "id": "f0befa24",
   "metadata": {
    "colab": {
     "base_uri": "https://localhost:8080/"
    },
    "id": "f0befa24",
    "outputId": "8637abc0-b15e-4b56-a712-2bda0e868935",
    "tags": []
   },
   "outputs": [
    {
     "name": "stdout",
     "output_type": "stream",
     "text": [
      "Before transformation, the first label example contains : 5\n",
      "Before transformation, the first label example contains : [0. 0. 0. 0. 0. 1.]\n"
     ]
    }
   ],
   "source": [
    "ohe = OneHotEncoder()\n",
    "ohe.fit(y_array)\n",
    "y_data = ohe.transform(y_array).toarray()\n",
    "y_array = np.array(aug_y)\n",
    "y_array = np.expand_dims(y_array, axis=1)\n",
    "print( \"Before transformation, the first label example contains :\" , y_array[0][0])\n",
    "print( \"Before transformation, the first label example contains :\" , y_data[0])"
   ]
  },
  {
   "cell_type": "markdown",
   "id": "1c9e0b07",
   "metadata": {
    "id": "1c9e0b07"
   },
   "source": [
    "### Training test split"
   ]
  },
  {
   "cell_type": "markdown",
   "id": "e3a94cb1",
   "metadata": {
    "id": "e3a94cb1"
   },
   "source": [
    "We will split the training data into training and validation sets. the first set is used for training, and the second is to monitor the accuracy of the predictions on a set of images that were not used in training.For that we will use the *train_test_split* function.  \n",
    "It's important also that all classes are represented equally in both sets, hence the use of *stratify*.  "
   ]
  },
  {
   "cell_type": "code",
   "execution_count": 72,
   "id": "a82ab042",
   "metadata": {
    "id": "a82ab042",
    "tags": []
   },
   "outputs": [],
   "source": [
    "x_train, x_val, y_train, y_val = train_test_split(x_data, y_data, test_size = 0.2, stratify=y_array)"
   ]
  },
  {
   "cell_type": "markdown",
   "id": "2fd2682a",
   "metadata": {
    "id": "2fd2682a"
   },
   "source": [
    "# Model"
   ]
  },
  {
   "cell_type": "markdown",
   "id": "8e80a0c6",
   "metadata": {
    "id": "8e80a0c6"
   },
   "source": [
    "Using Keras, we build our CNN model. This model is inspired from VGG models, combining Convolution and Pooling layers with final a fully connected layer as output."
   ]
  },
  {
   "cell_type": "code",
   "execution_count": 73,
   "id": "2d7fjURS31cu",
   "metadata": {
    "id": "2d7fjURS31cu",
    "tags": []
   },
   "outputs": [],
   "source": [
    "# model 4 : 96%\n",
    "CNN = models.Sequential()\n",
    "CNN.add(layers.Conv2D(32, (3,3), activation='relu', input_shape=(64, 64, 3)))\n",
    "CNN.add(layers.Dropout(0.1))\n",
    "CNN.add(layers.Conv2D(32, (3,3), activation='relu'))\n",
    "CNN.add(layers.Dropout(0.1))\n",
    "CNN.add(layers.MaxPooling2D((2, 2), strides=2))\n",
    "CNN.add(layers.Conv2D(32, (3,3), activation='relu'))\n",
    "CNN.add(layers.Dropout(0.1))\n",
    "CNN.add(layers.MaxPooling2D((2, 2), strides=2))\n",
    "CNN.add(layers.Conv2D(64, (3,3), activation='relu'))\n",
    "CNN.add(layers.Dropout(0.1))\n",
    "CNN.add(layers.MaxPooling2D((2, 2), strides=2))\n",
    "CNN.add(layers.Conv2D(64, (3,3), activation='relu'))\n",
    "CNN.add(layers.Dropout(0.1))\n",
    "CNN.add(layers.Conv2D(64, (3,3), activation='relu'))\n",
    "CNN.add(layers.Dropout(0.1))\n",
    "CNN.add(layers.MaxPooling2D((2, 2), strides=2))\n",
    "CNN.add(layers.Flatten())\n",
    "CNN.add(layers.Dense(32, activation='relu'))\n",
    "CNN.add(layers.Dropout(0.1))\n",
    "CNN.add(layers.Dense(6, activation='softmax'))"
   ]
  },
  {
   "cell_type": "markdown",
   "id": "801ae627",
   "metadata": {
    "id": "801ae627"
   },
   "source": [
    "The two main layers used are convolution and pooling where :\n",
    "* For Convolutions (CONV2D) we define the number of filters (or kernels), usually 3x3 filters. When trained, these filters will extacrt important features for the classification.\n",
    "* Pooling layerooling2D), usually 2x2 with a stride of 2, helps divide the size of the input.  \n",
    "\n",
    "Through a combination of both layers, we end up with a layer that gives a (1,1,64) output. This allows a simple transition to a fully connected layer without introducing new parameters.  \n",
    "Then the output layer has 6 cells, each one corresponding to a class."
   ]
  },
  {
   "cell_type": "code",
   "execution_count": 74,
   "id": "883a1a8c",
   "metadata": {
    "colab": {
     "base_uri": "https://localhost:8080/"
    },
    "id": "883a1a8c",
    "outputId": "ce65ac31-b81b-438d-ad2e-d88fc38e8568",
    "tags": []
   },
   "outputs": [
    {
     "name": "stdout",
     "output_type": "stream",
     "text": [
      "Model: \"sequential_4\"\n",
      "_________________________________________________________________\n",
      " Layer (type)                Output Shape              Param #   \n",
      "=================================================================\n",
      " conv2d (Conv2D)             (None, 62, 62, 32)        896       \n",
      "                                                                 \n",
      " dropout (Dropout)           (None, 62, 62, 32)        0         \n",
      "                                                                 \n",
      " conv2d_1 (Conv2D)           (None, 60, 60, 32)        9248      \n",
      "                                                                 \n",
      " dropout_1 (Dropout)         (None, 60, 60, 32)        0         \n",
      "                                                                 \n",
      " max_pooling2d (MaxPooling2D  (None, 30, 30, 32)       0         \n",
      " )                                                               \n",
      "                                                                 \n",
      " conv2d_2 (Conv2D)           (None, 28, 28, 32)        9248      \n",
      "                                                                 \n",
      " dropout_2 (Dropout)         (None, 28, 28, 32)        0         \n",
      "                                                                 \n",
      " max_pooling2d_1 (MaxPooling  (None, 14, 14, 32)       0         \n",
      " 2D)                                                             \n",
      "                                                                 \n",
      " conv2d_3 (Conv2D)           (None, 12, 12, 64)        18496     \n",
      "                                                                 \n",
      " dropout_3 (Dropout)         (None, 12, 12, 64)        0         \n",
      "                                                                 \n",
      " max_pooling2d_2 (MaxPooling  (None, 6, 6, 64)         0         \n",
      " 2D)                                                             \n",
      "                                                                 \n",
      " conv2d_4 (Conv2D)           (None, 4, 4, 64)          36928     \n",
      "                                                                 \n",
      " dropout_4 (Dropout)         (None, 4, 4, 64)          0         \n",
      "                                                                 \n",
      " conv2d_5 (Conv2D)           (None, 2, 2, 64)          36928     \n",
      "                                                                 \n",
      " dropout_5 (Dropout)         (None, 2, 2, 64)          0         \n",
      "                                                                 \n",
      " max_pooling2d_3 (MaxPooling  (None, 1, 1, 64)         0         \n",
      " 2D)                                                             \n",
      "                                                                 \n",
      " flatten (Flatten)           (None, 64)                0         \n",
      "                                                                 \n",
      " dense (Dense)               (None, 32)                2080      \n",
      "                                                                 \n",
      " dropout_6 (Dropout)         (None, 32)                0         \n",
      "                                                                 \n",
      " dense_1 (Dense)             (None, 6)                 198       \n",
      "                                                                 \n",
      "=================================================================\n",
      "Total params: 114,022\n",
      "Trainable params: 114,022\n",
      "Non-trainable params: 0\n",
      "_________________________________________________________________\n"
     ]
    }
   ],
   "source": [
    "CNN.summary()"
   ]
  },
  {
   "cell_type": "markdown",
   "id": "20d0fd27",
   "metadata": {
    "id": "20d0fd27"
   },
   "source": [
    "Then we define the optimizer, the loss function and the metric to monitor:  "
   ]
  },
  {
   "cell_type": "code",
   "execution_count": 76,
   "id": "b9e8d163",
   "metadata": {
    "id": "b9e8d163",
    "tags": []
   },
   "outputs": [],
   "source": [
    "CNN.compile(loss='categorical_crossentropy', optimizer='adam', metrics=['accuracy'])"
   ]
  },
  {
   "cell_type": "markdown",
   "id": "f9fdd301",
   "metadata": {
    "id": "f9fdd301"
   },
   "source": [
    "Finally, we train the model, using the traning set, and monitor it using the validation set :"
   ]
  },
  {
   "cell_type": "code",
   "execution_count": 77,
   "id": "b96f41c8",
   "metadata": {
    "colab": {
     "base_uri": "https://localhost:8080/"
    },
    "id": "b96f41c8",
    "outputId": "78403a06-8c1f-4b02-b6e5-26361d2aaabb",
    "scrolled": true,
    "tags": []
   },
   "outputs": [
    {
     "name": "stdout",
     "output_type": "stream",
     "text": [
      "Epoch 1/40\n",
      "54/54 [==============================] - 21s 361ms/step - loss: 1.7933 - accuracy: 0.1664 - val_loss: 1.7914 - val_accuracy: 0.1586\n",
      "Epoch 2/40\n",
      "54/54 [==============================] - 21s 396ms/step - loss: 1.7885 - accuracy: 0.1791 - val_loss: 1.7917 - val_accuracy: 0.1667\n",
      "Epoch 3/40\n",
      "54/54 [==============================] - 21s 385ms/step - loss: 1.7915 - accuracy: 0.1626 - val_loss: 1.7898 - val_accuracy: 0.1505\n",
      "Epoch 4/40\n",
      "54/54 [==============================] - 20s 374ms/step - loss: 1.7257 - accuracy: 0.2156 - val_loss: 1.5712 - val_accuracy: 0.3519\n",
      "Epoch 5/40\n",
      "54/54 [==============================] - 20s 375ms/step - loss: 1.4763 - accuracy: 0.3458 - val_loss: 1.4975 - val_accuracy: 0.3854\n",
      "Epoch 6/40\n",
      "54/54 [==============================] - 20s 376ms/step - loss: 1.3433 - accuracy: 0.4268 - val_loss: 1.3568 - val_accuracy: 0.4294\n",
      "Epoch 7/40\n",
      "54/54 [==============================] - 20s 378ms/step - loss: 1.2754 - accuracy: 0.4592 - val_loss: 1.3509 - val_accuracy: 0.4421\n",
      "Epoch 8/40\n",
      "54/54 [==============================] - 20s 375ms/step - loss: 1.2263 - accuracy: 0.4925 - val_loss: 1.2425 - val_accuracy: 0.5035\n",
      "Epoch 9/40\n",
      "54/54 [==============================] - 20s 374ms/step - loss: 1.1657 - accuracy: 0.5041 - val_loss: 1.1235 - val_accuracy: 0.5752\n",
      "Epoch 10/40\n",
      "54/54 [==============================] - 20s 378ms/step - loss: 1.0589 - accuracy: 0.5550 - val_loss: 1.0309 - val_accuracy: 0.6065\n",
      "Epoch 11/40\n",
      "54/54 [==============================] - 21s 387ms/step - loss: 0.9542 - accuracy: 0.6047 - val_loss: 0.9521 - val_accuracy: 0.6181\n",
      "Epoch 12/40\n",
      "54/54 [==============================] - 22s 412ms/step - loss: 0.8620 - accuracy: 0.6499 - val_loss: 0.8311 - val_accuracy: 0.7176\n",
      "Epoch 13/40\n",
      "54/54 [==============================] - 21s 395ms/step - loss: 0.7832 - accuracy: 0.6840 - val_loss: 0.8507 - val_accuracy: 0.6887\n",
      "Epoch 14/40\n",
      "54/54 [==============================] - 21s 397ms/step - loss: 0.6755 - accuracy: 0.7231 - val_loss: 0.6794 - val_accuracy: 0.7465\n",
      "Epoch 15/40\n",
      "54/54 [==============================] - 20s 377ms/step - loss: 0.6200 - accuracy: 0.7561 - val_loss: 0.6311 - val_accuracy: 0.8009\n",
      "Epoch 16/40\n",
      "54/54 [==============================] - 22s 405ms/step - loss: 0.5404 - accuracy: 0.7792 - val_loss: 0.5740 - val_accuracy: 0.7882\n",
      "Epoch 17/40\n",
      "54/54 [==============================] - 21s 396ms/step - loss: 0.5215 - accuracy: 0.7862 - val_loss: 0.6433 - val_accuracy: 0.7535\n",
      "Epoch 18/40\n",
      "54/54 [==============================] - 21s 398ms/step - loss: 0.4691 - accuracy: 0.8096 - val_loss: 0.5500 - val_accuracy: 0.7940\n",
      "Epoch 19/40\n",
      "54/54 [==============================] - 21s 382ms/step - loss: 0.4385 - accuracy: 0.8241 - val_loss: 0.4853 - val_accuracy: 0.8252\n",
      "Epoch 20/40\n",
      "54/54 [==============================] - 21s 381ms/step - loss: 0.4346 - accuracy: 0.8215 - val_loss: 0.4533 - val_accuracy: 0.8391\n",
      "Epoch 21/40\n",
      "54/54 [==============================] - 20s 378ms/step - loss: 0.4011 - accuracy: 0.8377 - val_loss: 0.5149 - val_accuracy: 0.8137\n",
      "Epoch 22/40\n",
      "54/54 [==============================] - 21s 389ms/step - loss: 0.3889 - accuracy: 0.8464 - val_loss: 0.4532 - val_accuracy: 0.8380\n",
      "Epoch 23/40\n",
      "54/54 [==============================] - 21s 384ms/step - loss: 0.3470 - accuracy: 0.8582 - val_loss: 0.4344 - val_accuracy: 0.8275\n",
      "Epoch 24/40\n",
      "54/54 [==============================] - 21s 388ms/step - loss: 0.3635 - accuracy: 0.8539 - val_loss: 0.4453 - val_accuracy: 0.8403\n",
      "Epoch 25/40\n",
      "54/54 [==============================] - 22s 412ms/step - loss: 0.3325 - accuracy: 0.8707 - val_loss: 0.4465 - val_accuracy: 0.8310\n",
      "Epoch 26/40\n",
      "54/54 [==============================] - 23s 417ms/step - loss: 0.3033 - accuracy: 0.8848 - val_loss: 0.4146 - val_accuracy: 0.8333\n",
      "Epoch 27/40\n",
      "54/54 [==============================] - 22s 404ms/step - loss: 0.2859 - accuracy: 0.8828 - val_loss: 0.3763 - val_accuracy: 0.8484\n",
      "Epoch 28/40\n",
      "54/54 [==============================] - 21s 385ms/step - loss: 0.2615 - accuracy: 0.8973 - val_loss: 0.3801 - val_accuracy: 0.8484\n",
      "Epoch 29/40\n",
      "54/54 [==============================] - 21s 387ms/step - loss: 0.3282 - accuracy: 0.8724 - val_loss: 0.4629 - val_accuracy: 0.8368\n",
      "Epoch 30/40\n",
      "54/54 [==============================] - 21s 386ms/step - loss: 0.2480 - accuracy: 0.9054 - val_loss: 0.3421 - val_accuracy: 0.8704\n",
      "Epoch 31/40\n",
      "54/54 [==============================] - 21s 392ms/step - loss: 0.2181 - accuracy: 0.9141 - val_loss: 0.3577 - val_accuracy: 0.8727\n",
      "Epoch 32/40\n",
      "54/54 [==============================] - 21s 382ms/step - loss: 0.2150 - accuracy: 0.9210 - val_loss: 0.3454 - val_accuracy: 0.8681\n",
      "Epoch 33/40\n",
      "54/54 [==============================] - 20s 379ms/step - loss: 0.1975 - accuracy: 0.9253 - val_loss: 0.3535 - val_accuracy: 0.8542\n",
      "Epoch 34/40\n",
      "54/54 [==============================] - 20s 376ms/step - loss: 0.1795 - accuracy: 0.9352 - val_loss: 0.3128 - val_accuracy: 0.8866\n",
      "Epoch 35/40\n",
      "54/54 [==============================] - 21s 383ms/step - loss: 0.1658 - accuracy: 0.9358 - val_loss: 0.3832 - val_accuracy: 0.8588\n",
      "Epoch 36/40\n",
      "54/54 [==============================] - 20s 378ms/step - loss: 0.1942 - accuracy: 0.9271 - val_loss: 0.3209 - val_accuracy: 0.8819\n",
      "Epoch 37/40\n",
      "54/54 [==============================] - 20s 377ms/step - loss: 0.1520 - accuracy: 0.9488 - val_loss: 0.3623 - val_accuracy: 0.8657\n",
      "Epoch 38/40\n",
      "54/54 [==============================] - 21s 380ms/step - loss: 0.1853 - accuracy: 0.9337 - val_loss: 0.3112 - val_accuracy: 0.8831\n",
      "Epoch 39/40\n",
      "54/54 [==============================] - 20s 378ms/step - loss: 0.1411 - accuracy: 0.9494 - val_loss: 0.3340 - val_accuracy: 0.8727\n",
      "Epoch 40/40\n",
      "54/54 [==============================] - 21s 381ms/step - loss: 0.1326 - accuracy: 0.9537 - val_loss: 0.2836 - val_accuracy: 0.9028\n"
     ]
    }
   ],
   "source": [
    "history = CNN.fit(x_train, y_train, epochs=40, batch_size = 64, validation_data=(x_val, y_val))"
   ]
  },
  {
   "cell_type": "code",
   "execution_count": 79,
   "id": "jknBvnINHz_p",
   "metadata": {
    "colab": {
     "base_uri": "https://localhost:8080/"
    },
    "id": "jknBvnINHz_p",
    "outputId": "bf3390a8-b240-403c-f64a-549491af7f0c",
    "tags": []
   },
   "outputs": [
    {
     "name": "stdout",
     "output_type": "stream",
     "text": [
      "dict_keys(['loss', 'accuracy', 'val_loss', 'val_accuracy'])\n"
     ]
    }
   ],
   "source": [
    "# list all data in history\n",
    "print(history.history.keys())"
   ]
  },
  {
   "cell_type": "markdown",
   "id": "7348fe91-5e9f-47a2-9cbe-a4dc06c0defb",
   "metadata": {},
   "source": [
    "After the training is completed, We can visualize the evolution of the accuracies and losses"
   ]
  },
  {
   "cell_type": "code",
   "execution_count": 85,
   "id": "mpT8yVj4HvK9",
   "metadata": {
    "colab": {
     "base_uri": "https://localhost:8080/",
     "height": 295
    },
    "id": "mpT8yVj4HvK9",
    "outputId": "ac12e0fb-fcba-4d54-8413-0b31f1fdcfba",
    "tags": []
   },
   "outputs": [
    {
     "data": {
      "image/png": "[encoded data removed]",
      "text/plain": [
       "<Figure size 800x500 with 2 Axes>"
      ]
     },
     "metadata": {},
     "output_type": "display_data"
    }
   ],
   "source": [
    "fig, (ax1, ax2) = plt.subplots(1,2, figsize=(8, 5))\n",
    "\n",
    "# history for accuracy\n",
    "ax1.plot(history.history['accuracy'])\n",
    "ax1.plot(history.history['val_accuracy'])\n",
    "ax1.set_title('model accuracy')\n",
    "ax1.set_ylabel('accuracy')\n",
    "ax1.set_xlabel('epoch')\n",
    "ax1.legend(['train', 'val'], loc='upper left')\n",
    "\n",
    "# history for loss\n",
    "ax2.plot(history.history['loss'])\n",
    "ax2.plot(history.history['val_loss'])\n",
    "ax2.set_title('model loss')\n",
    "ax2.set_ylabel('loss')\n",
    "ax2.set_xlabel('epoch')\n",
    "ax2.legend(['train', 'val'], loc='upper left')\n",
    "\n",
    "plt.show()"
   ]
  },
  {
   "cell_type": "markdown",
   "id": "15a64714-5899-4aff-84e3-144d626ac07a",
   "metadata": {},
   "source": [
    "The charts show that the train accuracy is higher tyhan the validation accuracy, and the training loss is lower than the validation loss.  \n",
    "This obviously means that the model did'nt overfit the validation data, but to test if the model generalizes well, we need to test it on completely new set."
   ]
  },
  {
   "cell_type": "code",
   "execution_count": null,
   "id": "811bdfe9",
   "metadata": {
    "id": "811bdfe9"
   },
   "outputs": [],
   "source": [
    "#CNN.save(\"CNN_4.h5\")"
   ]
  },
  {
   "cell_type": "markdown",
   "id": "fdd64d3d",
   "metadata": {
    "id": "fdd64d3d"
   },
   "source": [
    "# Model Evaluation"
   ]
  },
  {
   "cell_type": "markdown",
   "id": "fdecef09-872c-4f7d-a2e9-52046e83fc55",
   "metadata": {},
   "source": [
    "In order to evaluate the performance of the model, we load a the test set which consists of a completely new dataset that was not used in training."
   ]
  },
  {
   "cell_type": "code",
   "execution_count": 80,
   "id": "3b4cd611",
   "metadata": {
    "colab": {
     "base_uri": "https://localhost:8080/"
    },
    "id": "3b4cd611",
    "outputId": "9e2c769e-4541-42ae-a9a6-4aab0af5faac",
    "tags": []
   },
   "outputs": [
    {
     "data": {
      "text/plain": [
       "['list_classes', 'test_set_x', 'test_set_y']"
      ]
     },
     "execution_count": 80,
     "metadata": {},
     "output_type": "execute_result"
    }
   ],
   "source": [
    "f = h5py.File(join(path, 'test_signs.h5'), 'r')\n",
    "list(f.keys())"
   ]
  },
  {
   "cell_type": "markdown",
   "id": "157a8d92-68ab-47c3-ab92-63e2a88d4058",
   "metadata": {},
   "source": [
    "We perform the same pre-processing either on the images (*normalization*) or on the labels (*one hot encoding* using the same ohe model used earlier)."
   ]
  },
  {
   "cell_type": "code",
   "execution_count": 81,
   "id": "ed039f1d",
   "metadata": {
    "id": "ed039f1d",
    "tags": []
   },
   "outputs": [],
   "source": [
    "x_tmp = np.array(f['test_set_x'])\n",
    "y_tmp = np.array(f['test_set_y'])"
   ]
  },
  {
   "cell_type": "code",
   "execution_count": 82,
   "id": "5ff9b536",
   "metadata": {
    "id": "5ff9b536",
    "tags": []
   },
   "outputs": [],
   "source": [
    "x_test = x_tmp/255.0"
   ]
  },
  {
   "cell_type": "code",
   "execution_count": 83,
   "id": "32518e64",
   "metadata": {
    "id": "32518e64",
    "tags": []
   },
   "outputs": [],
   "source": [
    "y_tmp2 = np.expand_dims(y_tmp, axis =1)\n",
    "y_test = ohe.transform(y_tmp2).toarray()"
   ]
  },
  {
   "cell_type": "markdown",
   "id": "8066eee2-4f71-42fa-82c0-8b64c8fbe5a4",
   "metadata": {},
   "source": [
    "We then evaluate the model accuracy on the test data"
   ]
  },
  {
   "cell_type": "code",
   "execution_count": 84,
   "id": "88912f5b",
   "metadata": {
    "colab": {
     "base_uri": "https://localhost:8080/"
    },
    "id": "88912f5b",
    "outputId": "537c2d91-09e2-49ea-ed77-d0a2bff1fc26",
    "tags": []
   },
   "outputs": [
    {
     "name": "stdout",
     "output_type": "stream",
     "text": [
      "4/4 [==============================] - 0s 25ms/step - loss: 0.1329 - accuracy: 0.9667\n",
      "Test Accuracy = 96.67 %\n"
     ]
    }
   ],
   "source": [
    "preds = CNN.evaluate(x_test, y_test)\n",
    "print (\"Test Accuracy = {0:.2f} %\".format(preds[1]*100))"
   ]
  },
  {
   "cell_type": "markdown",
   "id": "b9602504-058b-46aa-9d30-61bff35df9ab",
   "metadata": {},
   "source": [
    "The model shows very good accuracy on test set, proving that the model generlizes well"
   ]
  },
  {
   "cell_type": "markdown",
   "id": "8eaaf0fb-f5a3-4c0f-a216-08ed385e0cf0",
   "metadata": {},
   "source": [
    "# Test in live"
   ]
  },
  {
   "cell_type": "markdown",
   "id": "dcdcefad-93aa-41db-b777-0ba92a0a4165",
   "metadata": {},
   "source": [
    "For this part we will need to use OpenCV to exploit the live Camera feed and save video. To make it easy we will slow the feed and resize the frames in 64x64 in order to use them on the CNN model. We will also slow the feed so that the model can "
   ]
  },
  {
   "cell_type": "code",
   "execution_count": 89,
   "id": "fc27df44-1d05-4bfb-8b51-2576dab339ba",
   "metadata": {
    "tags": []
   },
   "outputs": [],
   "source": [
    "import cv2\n",
    "import time"
   ]
  },
  {
   "cell_type": "code",
   "execution_count": 33,
   "id": "8987623a",
   "metadata": {},
   "outputs": [],
   "source": [
    "#CNN = keras.models.load_model(\"CNN_4.h5\")"
   ]
  },
  {
   "cell_type": "code",
   "execution_count": 90,
   "id": "9fdfbe3a",
   "metadata": {
    "tags": []
   },
   "outputs": [
    {
     "name": "stdout",
     "output_type": "stream",
     "text": [
      "1/1 [==============================] - 0s 122ms/step\n",
      "1/1 [==============================] - 0s 21ms/step\n",
      "1/1 [==============================] - 0s 16ms/step\n",
      "1/1 [==============================] - 0s 31ms/step\n",
      "1/1 [==============================] - 0s 16ms/step\n",
      "1/1 [==============================] - 0s 16ms/step\n",
      "1/1 [==============================] - 0s 6ms/step\n",
      "1/1 [==============================] - 0s 25ms/step\n",
      "1/1 [==============================] - 0s 31ms/step\n",
      "1/1 [==============================] - 0s 26ms/step\n",
      "1/1 [==============================] - 0s 16ms/step\n",
      "1/1 [==============================] - 0s 16ms/step\n",
      "1/1 [==============================] - 0s 31ms/step\n",
      "1/1 [==============================] - 0s 31ms/step\n",
      "1/1 [==============================] - 0s 16ms/step\n",
      "1/1 [==============================] - 0s 31ms/step\n",
      "1/1 [==============================] - 0s 33ms/step\n",
      "1/1 [==============================] - 0s 16ms/step\n",
      "1/1 [==============================] - 0s 16ms/step\n",
      "1/1 [==============================] - 0s 20ms/step\n",
      "1/1 [==============================] - 0s 11ms/step\n",
      "1/1 [==============================] - 0s 31ms/step\n",
      "1/1 [==============================] - 0s 16ms/step\n",
      "1/1 [==============================] - 0s 16ms/step\n",
      "1/1 [==============================] - 0s 16ms/step\n",
      "1/1 [==============================] - 0s 16ms/step\n",
      "1/1 [==============================] - 0s 16ms/step\n",
      "1/1 [==============================] - 0s 26ms/step\n",
      "1/1 [==============================] - 0s 22ms/step\n",
      "1/1 [==============================] - 0s 16ms/step\n",
      "1/1 [==============================] - 0s 16ms/step\n",
      "1/1 [==============================] - 0s 16ms/step\n",
      "1/1 [==============================] - 0s 31ms/step\n",
      "1/1 [==============================] - 0s 21ms/step\n",
      "1/1 [==============================] - 0s 16ms/step\n",
      "1/1 [==============================] - 0s 31ms/step\n",
      "1/1 [==============================] - 0s 16ms/step\n",
      "1/1 [==============================] - 0s 31ms/step\n",
      "1/1 [==============================] - 0s 16ms/step\n",
      "1/1 [==============================] - 0s 16ms/step\n",
      "1/1 [==============================] - 0s 16ms/step\n",
      "1/1 [==============================] - 0s 28ms/step\n",
      "1/1 [==============================] - 0s 16ms/step\n",
      "1/1 [==============================] - 0s 16ms/step\n",
      "1/1 [==============================] - 0s 16ms/step\n",
      "1/1 [==============================] - 0s 18ms/step\n",
      "1/1 [==============================] - 0s 17ms/step\n",
      "1/1 [==============================] - 0s 17ms/step\n",
      "1/1 [==============================] - 0s 12ms/step\n",
      "1/1 [==============================] - 0s 31ms/step\n",
      "1/1 [==============================] - 0s 31ms/step\n",
      "1/1 [==============================] - 0s 18ms/step\n",
      "1/1 [==============================] - 0s 24ms/step\n",
      "1/1 [==============================] - 0s 31ms/step\n",
      "1/1 [==============================] - 0s 16ms/step\n",
      "1/1 [==============================] - 0s 16ms/step\n",
      "1/1 [==============================] - 0s 16ms/step\n",
      "1/1 [==============================] - 0s 31ms/step\n",
      "1/1 [==============================] - 0s 10ms/step\n",
      "1/1 [==============================] - 0s 24ms/step\n",
      "1/1 [==============================] - 0s 23ms/step\n",
      "1/1 [==============================] - 0s 21ms/step\n",
      "1/1 [==============================] - 0s 23ms/step\n",
      "1/1 [==============================] - 0s 17ms/step\n",
      "1/1 [==============================] - 0s 19ms/step\n",
      "1/1 [==============================] - 0s 27ms/step\n",
      "1/1 [==============================] - 0s 20ms/step\n",
      "1/1 [==============================] - 0s 16ms/step\n",
      "1/1 [==============================] - 0s 16ms/step\n",
      "1/1 [==============================] - 0s 21ms/step\n",
      "1/1 [==============================] - 0s 16ms/step\n",
      "1/1 [==============================] - 0s 17ms/step\n",
      "1/1 [==============================] - 0s 16ms/step\n",
      "1/1 [==============================] - 0s 18ms/step\n",
      "1/1 [==============================] - 0s 17ms/step\n",
      "1/1 [==============================] - 0s 16ms/step\n",
      "1/1 [==============================] - 0s 31ms/step\n",
      "1/1 [==============================] - 0s 16ms/step\n",
      "1/1 [==============================] - 0s 31ms/step\n",
      "1/1 [==============================] - 0s 21ms/step\n",
      "1/1 [==============================] - 0s 17ms/step\n",
      "1/1 [==============================] - 0s 19ms/step\n",
      "1/1 [==============================] - 0s 31ms/step\n",
      "1/1 [==============================] - 0s 34ms/step\n",
      "1/1 [==============================] - 0s 22ms/step\n",
      "1/1 [==============================] - 0s 14ms/step\n",
      "1/1 [==============================] - 0s 31ms/step\n",
      "1/1 [==============================] - 0s 16ms/step\n",
      "1/1 [==============================] - 0s 20ms/step\n",
      "1/1 [==============================] - 0s 31ms/step\n",
      "1/1 [==============================] - 0s 31ms/step\n",
      "1/1 [==============================] - 0s 31ms/step\n"
     ]
    }
   ],
   "source": [
    "cap = cv2.VideoCapture(0)\n",
    "#cap.set(3,64)\n",
    "#cap.set(4,64)\n",
    "\n",
    "fourcc = cv2.VideoWriter_fourcc(*'XVID')\n",
    "out = cv2.VideoWriter(\"output5.avi\", fourcc, 20.0, (640, 480))\n",
    "\n",
    "while True:\n",
    "    time.sleep(0.2)\n",
    "    ret, frame = cap.read()\n",
    "    if ret :\n",
    "        \n",
    "        # transformation de l'image\n",
    "        frame_rgb = cv2.cvtColor(frame, cv2.COLOR_BGR2RGB)\n",
    "        im_rsz = cv2.resize(frame_rgb, (64,64) , interpolation = cv2.INTER_AREA)/255.0\n",
    "        img_rgb_2 = np.expand_dims(im_rsz, axis =0)\n",
    "        \n",
    "        \n",
    "        # prediction\n",
    "        pred = CNN.predict(img_rgb_2)\n",
    "        result = pred.argmax()\n",
    "        \n",
    "        # print\n",
    "        #clear_output(wait=True)\n",
    "        #print(result)\n",
    "        #print(frame.shape)\n",
    "        \n",
    "        # frame 2\n",
    "        cv2.putText(frame, str(result), org = (10,70), fontFace = cv2.FONT_HERSHEY_PLAIN , fontScale = 3, color=(255,255,255))\n",
    "        cv2.imshow(\"Geste\", frame)\n",
    "        \n",
    "        out.write(frame)\n",
    "    \n",
    "    #cv2.imshow(\"frame\", frame)\n",
    "    key = cv2.waitKey(1)\n",
    "    if key == 27: # Esc \n",
    "        break\n",
    "        \n",
    "out.release()\n",
    "        \n",
    "cap.release()\n",
    "\n",
    "cv2.destroyAllWindows()"
   ]
  },
  {
   "cell_type": "code",
   "execution_count": null,
   "id": "39d5bdc6",
   "metadata": {},
   "outputs": [],
   "source": []
  },
  {
   "cell_type": "code",
   "execution_count": null,
   "id": "e4b83849",
   "metadata": {},
   "outputs": [],
   "source": []
  }
 ],
 "metadata": {
  "accelerator": "GPU",
  "colab": {
   "collapsed_sections": [],
   "name": "With data augmentation.ipynb",
   "provenance": []
  },
  "kernelspec": {
   "display_name": "Python 3 (ipykernel)",
   "language": "python",
   "name": "python3"
  },
  "language_info": {
   "codemirror_mode": {
    "name": "ipython",
    "version": 3
   },
   "file_extension": ".py",
   "mimetype": "text/x-python",
   "name": "python",
   "nbconvert_exporter": "python",
   "pygments_lexer": "ipython3",
   "version": "3.11.3"
  }
 },
 "nbformat": 4,
 "nbformat_minor": 5
}
